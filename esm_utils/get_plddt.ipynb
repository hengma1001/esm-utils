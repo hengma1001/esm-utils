{
 "cells": [
  {
   "cell_type": "code",
   "execution_count": 16,
   "metadata": {},
   "outputs": [],
   "source": [
    "import os\n",
    "import pandas as pd\n",
    "import MDAnalysis as mda\n",
    "from tqdm import tqdm"
   ]
  },
  {
   "cell_type": "code",
   "execution_count": 18,
   "metadata": {},
   "outputs": [],
   "source": [
    "from utils import get_plddt"
   ]
  },
  {
   "cell_type": "code",
   "execution_count": 2,
   "metadata": {},
   "outputs": [],
   "source": [
    "esmfold_dir = '/homes/heng.ma/Research/BVBRC/results/esmfold'\n",
    "openfold_dir = '/homes/heng.ma/Research/BVBRC/results/openfold'"
   ]
  },
  {
   "cell_type": "code",
   "execution_count": 3,
   "metadata": {},
   "outputs": [],
   "source": [
    "df = pd.read_pickle(\"esm_emb.pkl\")"
   ]
  },
  {
   "cell_type": "code",
   "execution_count": 10,
   "metadata": {},
   "outputs": [],
   "source": [
    "mda_u = mda.Universe('/homes/heng.ma/Research/BVBRC/results/esmfold/fig|10271.8.CDS.37|SFV_s033R.pdb')\n"
   ]
  },
  {
   "cell_type": "code",
   "execution_count": 12,
   "metadata": {},
   "outputs": [
    {
     "name": "stderr",
     "output_type": "stream",
     "text": [
      "/homes/heng.ma/miniconda3/envs/esmfold/lib/python3.9/site-packages/MDAnalysis/core/topologyattrs.py:293: DeprecationWarning: The bfactor topology attribute is only provided as an alias to the tempfactor attribute. It will be removed in 3.0. Please use the tempfactor attribute instead.\n",
      "  warnings.warn(BFACTOR_WARNING, DeprecationWarning)\n"
     ]
    },
    {
     "data": {
      "text/plain": [
       "0.28590243919659614"
      ]
     },
     "execution_count": 12,
     "metadata": {},
     "output_type": "execute_result"
    }
   ],
   "source": [
    "mda_u.atoms.bfactors.mean()"
   ]
  },
  {
   "cell_type": "code",
   "execution_count": 19,
   "metadata": {},
   "outputs": [
    {
     "name": "stderr",
     "output_type": "stream",
     "text": [
      "/homes/heng.ma/miniconda3/envs/esmfold/lib/python3.9/site-packages/MDAnalysis/core/topologyattrs.py:293: DeprecationWarning: The bfactor topology attribute is only provided as an alias to the tempfactor attribute. It will be removed in 3.0. Please use the tempfactor attribute instead.\n",
      "  warnings.warn(BFACTOR_WARNING, DeprecationWarning)\n",
      "Exception ignored in: <function tqdm.__del__ at 0x7feb0d33fd30>\n",
      "Traceback (most recent call last):\n",
      "  File \"/homes/heng.ma/miniconda3/envs/esmfold/lib/python3.9/site-packages/tqdm/std.py\", line 1149, in __del__\n",
      "    self.close()\n",
      "  File \"/homes/heng.ma/miniconda3/envs/esmfold/lib/python3.9/site-packages/tqdm/notebook.py\", line 281, in close\n",
      "    self.disp(bar_style='success', check_delay=False)\n",
      "AttributeError: 'tqdm_notebook' object has no attribute 'disp'\n",
      "29854it [19:25, 25.60it/s]\n"
     ]
    }
   ],
   "source": [
    "plddt_list = []\n",
    "for _, line in tqdm(df.iterrows()):\n",
    "    pdb_file = f\"{esmfold_dir}/{line['name']}.pdb\"\n",
    "    if os.path.exists(pdb_file):\n",
    "        plddt_list.append(get_plddt(pdb_file))\n",
    "    else:\n",
    "        plddt_list.append(0.)"
   ]
  },
  {
   "cell_type": "code",
   "execution_count": null,
   "metadata": {},
   "outputs": [],
   "source": []
  }
 ],
 "metadata": {
  "kernelspec": {
   "display_name": "esmfold",
   "language": "python",
   "name": "python3"
  },
  "language_info": {
   "codemirror_mode": {
    "name": "ipython",
    "version": 3
   },
   "file_extension": ".py",
   "mimetype": "text/x-python",
   "name": "python",
   "nbconvert_exporter": "python",
   "pygments_lexer": "ipython3",
   "version": "3.9.16"
  }
 },
 "nbformat": 4,
 "nbformat_minor": 2
}
